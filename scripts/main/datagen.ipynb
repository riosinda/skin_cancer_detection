{
 "cells": [
  {
   "cell_type": "code",
   "execution_count": 1,
   "metadata": {},
   "outputs": [],
   "source": [
    "from tensorflow.keras.preprocessing.image import ImageDataGenerator\n",
    "import numpy as np\n",
    "import os\n",
    "import cv2"
   ]
  },
  {
   "cell_type": "code",
   "execution_count": 2,
   "metadata": {},
   "outputs": [],
   "source": [
    "data_generator = ImageDataGenerator(\n",
    "    rotation_range=20,    # Rango de rotación aleatorio de 20 grados\n",
    "    horizontal_flip=True, # Volteo horizontal aleatorio\n",
    "    vertical_flip=True,   # Volteo vertical aleatorio\n",
    "    shear_range=0.2,    # Rango de corte aleatorio de 0.2\n",
    "    zoom_range=0.2,       # Zoom aleatorio de 0.2\n",
    "    brightness_range=[0.8, 1.2],    # Rango de brillo aleatorio de 0.5 a 1.0\n",
    ")"
   ]
  },
  {
   "cell_type": "code",
   "execution_count": 3,
   "metadata": {},
   "outputs": [
    {
     "name": "stdout",
     "output_type": "stream",
     "text": [
      "Found 1071 images belonging to 1 classes.\n"
     ]
    }
   ],
   "source": [
    "# Directorio que contiene las imágenes originales\n",
    "#data_directory = \"D:/SkinCancerDatasets/images_dataset/resized/mirror/datagen/\"\n",
    "data_directory = \"D:/SkinCancerDatasets/images_dataset/resized/black/datagen/\"\n",
    "\n",
    "# Utiliza flow_from_directory para cargar los datos\n",
    "data_generator = data_generator.flow_from_directory(\n",
    "    data_directory,\n",
    "    target_size=(299, 299),  # Tamaño deseado de las imágenes\n",
    "    batch_size=32,        # Tamaño del lote\n",
    "    class_mode='binary',     # Modo de clasificación (puede variar según tu tarea)\n",
    "    shuffle=False                 # No cambies el orden de las imágenes para que coincida con la salida\n",
    ")"
   ]
  },
  {
   "cell_type": "code",
   "execution_count": 4,
   "metadata": {},
   "outputs": [],
   "source": [
    "# Número total de imágenes deseadas\n",
    "total_de_imagenes_deseadas = 3685\n",
    "\n",
    "# Directorio donde deseas guardar las imágenes generadas\n",
    "#output_directory = \"D:/SkinCancerDatasets/images_dataset/resized/mirror/scc/\"\n",
    "output_directory = \"D:/SkinCancerDatasets/images_dataset/resized/black/scc/\"\n",
    "\n",
    "# Crea el directorio de salida si no existe\n",
    "os.makedirs(output_directory, exist_ok=True)"
   ]
  },
  {
   "cell_type": "code",
   "execution_count": 5,
   "metadata": {},
   "outputs": [],
   "source": [
    "# Contador para el nombre de archivo\n",
    "contador = 0\n",
    "\n",
    "# Genera imágenes hasta alcanzar el número deseado y guárdalas\n",
    "while contador < total_de_imagenes_deseadas:\n",
    "    # Genera un lote de imágenes con aumentos aleatorios\n",
    "    batch_images, _ = data_generator.next()\n",
    "\n",
    "    # Guarda cada imagen del lote en el directorio de salida\n",
    "    for i in range(batch_images.shape[0]):\n",
    "        imagen = batch_images[i]\n",
    "        nombre_archivo = f\"gen_scc_{contador}.jpg\"  # Cambia el nombre de acuerdo a tus preferencias\n",
    "        ruta_guardado = os.path.join(output_directory, nombre_archivo)\n",
    "        cv2.imwrite(ruta_guardado, cv2.cvtColor(imagen, cv2.COLOR_RGB2BGR))\n",
    "        contador += 1\n",
    "        \n",
    "        if contador == total_de_imagenes_deseadas:\n",
    "            break"
   ]
  }
 ],
 "metadata": {
  "kernelspec": {
   "display_name": "Python 3",
   "language": "python",
   "name": "python3"
  },
  "language_info": {
   "codemirror_mode": {
    "name": "ipython",
    "version": 3
   },
   "file_extension": ".py",
   "mimetype": "text/x-python",
   "name": "python",
   "nbconvert_exporter": "python",
   "pygments_lexer": "ipython3",
   "version": "3.11.5"
  }
 },
 "nbformat": 4,
 "nbformat_minor": 2
}
