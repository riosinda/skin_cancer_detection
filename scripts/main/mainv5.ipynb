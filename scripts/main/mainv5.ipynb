{
 "cells": [
  {
   "cell_type": "code",
   "execution_count": 88,
   "metadata": {},
   "outputs": [],
   "source": [
    "import tensorflow as tf\n",
    "from tensorflow import keras\n",
    "from random import shuffle\n",
    "import seaborn as sns\n",
    "import pandas as pd\n",
    "import numpy as np\n",
    "import cv2 as cv\n",
    "import glob\n",
    "import os"
   ]
  },
  {
   "cell_type": "code",
   "execution_count": 89,
   "metadata": {},
   "outputs": [],
   "source": [
    "BATCH_SIZE = 64\n",
    "NUM_EPOCHS = 10\n",
    "NUM_CLASSES = 1"
   ]
  },
  {
   "cell_type": "code",
   "execution_count": 90,
   "metadata": {},
   "outputs": [],
   "source": [
    "base_model = keras.applications.InceptionV3(weights='imagenet', include_top=False, input_shape=(224, 224, 3))\n",
    "# Freeze the pretrained weights\n",
    "for layer in base_model.layers:\n",
    "    layer.trainable = False"
   ]
  },
  {
   "cell_type": "code",
   "execution_count": 91,
   "metadata": {},
   "outputs": [],
   "source": [
    "# Added layer to base model\n",
    "x = base_model.output\n",
    "x = keras.layers.GlobalAveragePooling2D()(x)\n",
    "x = keras.layers.Dense(1024, activation='relu')(x)\n",
    "predictions = keras.layers.Dense(NUM_CLASSES, activation='sigmoid')(x)"
   ]
  },
  {
   "cell_type": "code",
   "execution_count": 92,
   "metadata": {},
   "outputs": [],
   "source": [
    "model = keras.models.Model(inputs=base_model.input, outputs=predictions)\n",
    "\n",
    "optimizer = keras.optimizers.Adam(learning_rate=0.01)\n",
    "loos_fn = keras.losses.BinaryCrossentropy()\n",
    "model.compile(optimizer=optimizer, loss=loos_fn, metrics=['accuracy'])"
   ]
  },
  {
   "cell_type": "code",
   "execution_count": 93,
   "metadata": {},
   "outputs": [],
   "source": [
    "x_train = []\n",
    "y_train = []\n",
    "x_test = []\n",
    "y_test = []"
   ]
  },
  {
   "cell_type": "code",
   "execution_count": 94,
   "metadata": {},
   "outputs": [
    {
     "name": "stdout",
     "output_type": "stream",
     "text": [
      "Images loaded 4000\n"
     ]
    }
   ],
   "source": [
    "dataTr = []\n",
    "\n",
    "for filename in glob.glob(os.path.join('catdogs/train/cats/','*.jpg')):\n",
    "    dataTr.append([1, cv.resize(cv.imread(filename), dsize=(224, 224), interpolation=cv.INTER_CUBIC)])\n",
    "for filename in glob.glob(os.path.join('catdogs/train/dogs/','*.jpg')):\n",
    "    dataTr.append([0, cv.resize(cv.imread(filename), dsize=(224, 224), interpolation=cv.INTER_CUBIC)])\n",
    "\n",
    "print('Images loaded', len(dataTr))"
   ]
  },
  {
   "cell_type": "code",
   "execution_count": 95,
   "metadata": {},
   "outputs": [],
   "source": [
    "# Shuffle data\n",
    "for i, j in dataTr:\n",
    "    x_train.append(j)\n",
    "    y_train.append(i)\n",
    "x_train = np.array(x_train)/255 # Normalize\n",
    "y_train = np.array(y_train)"
   ]
  },
  {
   "cell_type": "code",
   "execution_count": 96,
   "metadata": {},
   "outputs": [
    {
     "name": "stdout",
     "output_type": "stream",
     "text": [
      "Images loaded 1000\n",
      "Labels loaded 1000\n"
     ]
    }
   ],
   "source": [
    "for filename in glob.glob(os.path.join('catdogs/test/cats/','*.jpg')):\n",
    "    x_test.append(cv.resize(cv.imread(filename), dsize=(224, 224), interpolation=cv.INTER_CUBIC))\n",
    "    y_test.append(1)\n",
    "for filename in glob.glob(os.path.join('catdogs/test/dogs/','*.jpg')):\n",
    "    x_test.append(cv.resize(cv.imread(filename), dsize=(224, 224), interpolation=cv.INTER_CUBIC))\n",
    "    y_test.append(0)\n",
    "\n",
    "print('Images loaded', len(x_test))\n",
    "print('Labels loaded', len(y_test))"
   ]
  },
  {
   "cell_type": "code",
   "execution_count": 97,
   "metadata": {},
   "outputs": [],
   "source": [
    "x_test = np.array(x_test)/255 # Normalize\n",
    "y_test = np.array(y_test)"
   ]
  },
  {
   "cell_type": "code",
   "execution_count": 98,
   "metadata": {},
   "outputs": [],
   "source": [
    "early_stopping = keras.callbacks.EarlyStopping(\n",
    "    monitor = 'val_loss',\n",
    "    mode = 'auto',\n",
    "    min_delta = 0,\n",
    "    patience = 3,\n",
    "    verbose = 0,\n",
    "    restore_best_weights = True\n",
    ")"
   ]
  },
  {
   "cell_type": "code",
   "execution_count": 99,
   "metadata": {},
   "outputs": [
    {
     "name": "stdout",
     "output_type": "stream",
     "text": [
      "Epoch 1/10\n",
      "63/63 - 126s - loss: 1.2835 - accuracy: 0.9532 - val_loss: 0.1099 - val_accuracy: 0.9820 - 126s/epoch - 2s/step\n",
      "Epoch 2/10\n",
      "63/63 - 114s - loss: 0.0608 - accuracy: 0.9870 - val_loss: 0.1042 - val_accuracy: 0.9640 - 114s/epoch - 2s/step\n",
      "Epoch 3/10\n",
      "63/63 - 111s - loss: 0.0410 - accuracy: 0.9885 - val_loss: 0.0887 - val_accuracy: 0.9830 - 111s/epoch - 2s/step\n",
      "Epoch 4/10\n",
      "63/63 - 111s - loss: 0.0559 - accuracy: 0.9852 - val_loss: 0.0450 - val_accuracy: 0.9820 - 111s/epoch - 2s/step\n",
      "Epoch 5/10\n",
      "63/63 - 111s - loss: 0.0139 - accuracy: 0.9948 - val_loss: 0.0508 - val_accuracy: 0.9810 - 111s/epoch - 2s/step\n",
      "Epoch 6/10\n",
      "63/63 - 111s - loss: 0.0066 - accuracy: 0.9977 - val_loss: 0.0645 - val_accuracy: 0.9830 - 111s/epoch - 2s/step\n",
      "Epoch 7/10\n",
      "63/63 - 111s - loss: 0.0069 - accuracy: 0.9973 - val_loss: 0.0755 - val_accuracy: 0.9830 - 111s/epoch - 2s/step\n"
     ]
    }
   ],
   "source": [
    "nav = model.fit(\n",
    "    x_train, y_train,\n",
    "    batch_size = BATCH_SIZE,\n",
    "    epochs = NUM_EPOCHS,\n",
    "    callbacks = [early_stopping],\n",
    "    validation_data = (x_test, y_test), \n",
    "    verbose = 2\n",
    ")"
   ]
  },
  {
   "cell_type": "code",
   "execution_count": 108,
   "metadata": {},
   "outputs": [
    {
     "name": "stdout",
     "output_type": "stream",
     "text": [
      "{'loss': [1.283522367477417, 0.0607844702899456, 0.041000209748744965, 0.05585458502173424, 0.013867187313735485, 0.006582736968994141, 0.006896422244608402], 'accuracy': [0.953249990940094, 0.9869999885559082, 0.9884999990463257, 0.9852499961853027, 0.9947500228881836, 0.9977499842643738, 0.9972500205039978], 'val_loss': [0.1099167913198471, 0.10415884852409363, 0.08871954679489136, 0.04503209516406059, 0.0507543720304966, 0.06446869671344757, 0.0755271464586258], 'val_accuracy': [0.9819999933242798, 0.9639999866485596, 0.9829999804496765, 0.9819999933242798, 0.9810000061988831, 0.9829999804496765, 0.9829999804496765]}\n"
     ]
    }
   ],
   "source": [
    "history = nav\n",
    "print(history.history)"
   ]
  },
  {
   "cell_type": "code",
   "execution_count": 101,
   "metadata": {},
   "outputs": [
    {
     "name": "stdout",
     "output_type": "stream",
     "text": [
      "32/32 - 23s - loss: 0.0450 - accuracy: 0.9820 - 23s/epoch - 705ms/step\n",
      "Test loss:  0.0450. Test accuracy:  98.20%\n"
     ]
    }
   ],
   "source": [
    "test_loss, test_acc = model.evaluate(x_test, y_test, verbose=2)\n",
    "print('Test loss: {0: .4f}. Test accuracy: {1: .2f}%'.format(test_loss, test_acc*100.))"
   ]
  },
  {
   "cell_type": "markdown",
   "metadata": {},
   "source": [
    "Plotting images and the results"
   ]
  },
  {
   "cell_type": "code",
   "execution_count": 102,
   "metadata": {},
   "outputs": [],
   "source": [
    "from sklearn.metrics import confusion_matrix, classification_report\n",
    "import matplotlib.pyplot as plt"
   ]
  },
  {
   "cell_type": "code",
   "execution_count": 113,
   "metadata": {},
   "outputs": [
    {
     "name": "stdout",
     "output_type": "stream",
     "text": [
      "32/32 [==============================] - 38s 1s/step\n",
      "[[490  10]\n",
      " [  8 492]]\n",
      "              precision    recall  f1-score   support\n",
      "\n",
      "           0       0.98      0.98      0.98       500\n",
      "           1       0.98      0.98      0.98       500\n",
      "\n",
      "    accuracy                           0.98      1000\n",
      "   macro avg       0.98      0.98      0.98      1000\n",
      "weighted avg       0.98      0.98      0.98      1000\n",
      "\n"
     ]
    },
    {
     "data": {
      "image/png": "[encoded data removed]",
      "text/plain": [
       "<Figure size 500x500 with 1 Axes>"
      ]
     },
     "metadata": {},
     "output_type": "display_data"
    }
   ],
   "source": [
    "# Confusion matrix\n",
    "y_pred = model.predict(x_test)\n",
    "y_pred = np.round(y_pred).astype(int)\n",
    "cm = confusion_matrix(y_test, y_pred)\n",
    "print(cm)\n",
    "\n",
    "# Classification report\n",
    "cr = classification_report(y_test, y_pred)\n",
    "print(cr)\n",
    "\n",
    "plt.figure(figsize=(5, 5))\n",
    "plt.imshow(cm, cmap=\"Blues\")\n",
    "plt.title(\"Matriz de confusión\")\n",
    "plt.xlabel(\"Clase predicha\")\n",
    "plt.ylabel(\"Clase real\")\n",
    "plt.xticks([0, 1], [\"Clase 0\", \"Clase 1\"])\n",
    "plt.yticks([0, 1], [\"Clase 0\", \"Clase 1\"])\n",
    "\n",
    "for i in range(len(cm)):\n",
    "    for j in range(len(cm[0])):\n",
    "        plt.text(j, i, cm[i][j], ha='center', va='center')\n",
    "\n",
    "plt.show()"
   ]
  },
  {
   "cell_type": "code",
   "execution_count": 109,
   "metadata": {},
   "outputs": [
    {
     "data": {
      "image/png": "[encoded data removed]",
      "text/plain": [
       "<Figure size 640x480 with 1 Axes>"
      ]
     },
     "metadata": {},
     "output_type": "display_data"
    },
    {
     "data": {
      "image/png": "[encoded data removed]",
      "text/plain": [
       "<Figure size 640x480 with 1 Axes>"
      ]
     },
     "metadata": {},
     "output_type": "display_data"
    }
   ],
   "source": [
    "# Datos de entrenamiento\n",
    "loss = history.history[\"loss\"]\n",
    "accuracy = history.history[\"accuracy\"]\n",
    "\n",
    "# Datos de validación\n",
    "val_loss = history.history[\"val_loss\"]\n",
    "val_accuracy = history.history[\"val_accuracy\"]\n",
    "\n",
    "# Gráfico del loss y el accuracy\n",
    "plt.plot(loss, label=\"Loss\")\n",
    "plt.plot(accuracy, label=\"Accuracy\")\n",
    "plt.xlabel(\"Época\")\n",
    "plt.ylabel(\"Métrica\")\n",
    "plt.legend()\n",
    "plt.show()\n",
    "\n",
    "# Gráfico del val_loss y el val_accuracy\n",
    "plt.plot(val_loss, label=\"val_loss\")\n",
    "plt.plot(val_accuracy, label=\"val_accuracy\")\n",
    "plt.xlabel(\"Época\")\n",
    "plt.ylabel(\"Métrica\")\n",
    "plt.legend()\n",
    "plt.show()"
   ]
  }
 ],
 "metadata": {
  "kernelspec": {
   "display_name": "Python 3",
   "language": "python",
   "name": "python3"
  },
  "language_info": {
   "codemirror_mode": {
    "name": "ipython",
    "version": 3
   },
   "file_extension": ".py",
   "mimetype": "text/x-python",
   "name": "python",
   "nbconvert_exporter": "python",
   "pygments_lexer": "ipython3",
   "version": "3.11.5"
  },
  "orig_nbformat": 4
 },
 "nbformat": 4,
 "nbformat_minor": 2
}
