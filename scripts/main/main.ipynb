{
 "cells": [
  {
   "cell_type": "code",
   "execution_count": 1,
   "metadata": {},
   "outputs": [],
   "source": [
    "import tensorflow as tf\n",
    "from tensorflow.keras.preprocessing.image import ImageDataGenerator\n",
    "from tensorflow.keras.applications import InceptionV3\n",
    "from tensorflow.keras.layers import Dense, GlobalAveragePooling2D\n",
    "from tensorflow.keras.models import Model\n",
    "\n",
    "import seaborn as sns\n",
    "import matplotlib.pyplot as plt\n",
    "from sklearn.metrics import confusion_matrix, classification_report\n",
    "from sklearn.utils.multiclass import unique_labels"
   ]
  },
  {
   "cell_type": "code",
   "execution_count": 2,
   "metadata": {},
   "outputs": [],
   "source": [
    "train_dir = 'D:/SkinCancerDatasets/FinalDataset/train/'\n",
    "test_dir = 'D:/SkinCancerDatasets/FinalDataset/test/'"
   ]
  },
  {
   "cell_type": "code",
   "execution_count": 3,
   "metadata": {},
   "outputs": [],
   "source": [
    "num_classes = 2  # Dos clases en tu dataset (por ejemplo, 'gato' y 'perro')\n",
    "batch_size = 32\n",
    "epochs = 60"
   ]
  },
  {
   "cell_type": "code",
   "execution_count": 4,
   "metadata": {},
   "outputs": [],
   "source": [
    "train_datagen = ImageDataGenerator(\n",
    "    rescale=1.0 / 255,\n",
    "    shear_range=0.2,\n",
    "    zoom_range=0.2,\n",
    "    horizontal_flip=True,\n",
    ")"
   ]
  },
  {
   "cell_type": "code",
   "execution_count": 5,
   "metadata": {},
   "outputs": [],
   "source": [
    "test_datagen = ImageDataGenerator(rescale=1.0 / 255)"
   ]
  },
  {
   "cell_type": "code",
   "execution_count": 6,
   "metadata": {},
   "outputs": [
    {
     "name": "stdout",
     "output_type": "stream",
     "text": [
      "Found 700 images belonging to 2 classes.\n"
     ]
    }
   ],
   "source": [
    "train_generator = train_datagen.flow_from_directory(\n",
    "    train_dir,\n",
    "    target_size=(224, 224),  # Tamaño de entrada de InceptionV3\n",
    "    batch_size=batch_size,\n",
    "    class_mode='binary',  # Modo binario para dos clases\n",
    ")"
   ]
  },
  {
   "cell_type": "code",
   "execution_count": 7,
   "metadata": {},
   "outputs": [
    {
     "name": "stdout",
     "output_type": "stream",
     "text": [
      "Found 300 images belonging to 2 classes.\n"
     ]
    }
   ],
   "source": [
    "test_generator = test_datagen.flow_from_directory(\n",
    "    test_dir,\n",
    "    target_size=(224, 224),\n",
    "    batch_size=batch_size,\n",
    "    class_mode='binary',\n",
    ")"
   ]
  },
  {
   "cell_type": "code",
   "execution_count": 8,
   "metadata": {},
   "outputs": [],
   "source": [
    "base_model = InceptionV3(weights='imagenet', include_top=False)"
   ]
  },
  {
   "cell_type": "code",
   "execution_count": 9,
   "metadata": {},
   "outputs": [],
   "source": [
    "x = base_model.output\n",
    "x = GlobalAveragePooling2D()(x)\n",
    "x = Dense(1024, activation='relu')(x)\n",
    "predictions = Dense(1, activation='sigmoid')(x)  # Una neurona para clasificación binaria"
   ]
  },
  {
   "cell_type": "code",
   "execution_count": 10,
   "metadata": {},
   "outputs": [],
   "source": [
    "model = Model(inputs=base_model.input, outputs=predictions)"
   ]
  },
  {
   "cell_type": "code",
   "execution_count": 11,
   "metadata": {},
   "outputs": [],
   "source": [
    "for layer in base_model.layers:\n",
    "    layer.trainable = False"
   ]
  },
  {
   "cell_type": "code",
   "execution_count": 12,
   "metadata": {},
   "outputs": [],
   "source": [
    "model.compile(optimizer='adam', loss='binary_crossentropy', metrics=['accuracy'])"
   ]
  },
  {
   "cell_type": "code",
   "execution_count": 13,
   "metadata": {},
   "outputs": [
    {
     "name": "stdout",
     "output_type": "stream",
     "text": [
      "Epoch 1/60\n",
      "22/22 [==============================] - 39s 2s/step - loss: 0.8107 - accuracy: 0.6486 - val_loss: 0.6484 - val_accuracy: 0.6600\n",
      "Epoch 2/60\n",
      "22/22 [==============================] - 27s 1s/step - loss: 0.4911 - accuracy: 0.7657 - val_loss: 0.5447 - val_accuracy: 0.7167\n",
      "Epoch 3/60\n",
      "22/22 [==============================] - 28s 1s/step - loss: 0.4237 - accuracy: 0.8143 - val_loss: 0.5391 - val_accuracy: 0.7200\n",
      "Epoch 4/60\n",
      "22/22 [==============================] - 29s 1s/step - loss: 0.3999 - accuracy: 0.8171 - val_loss: 0.5641 - val_accuracy: 0.7133\n",
      "Epoch 5/60\n",
      "22/22 [==============================] - 27s 1s/step - loss: 0.4412 - accuracy: 0.8186 - val_loss: 0.6758 - val_accuracy: 0.6867\n",
      "Epoch 6/60\n",
      "22/22 [==============================] - 27s 1s/step - loss: 0.3538 - accuracy: 0.8457 - val_loss: 0.5469 - val_accuracy: 0.7500\n",
      "Epoch 7/60\n",
      "22/22 [==============================] - 28s 1s/step - loss: 0.3473 - accuracy: 0.8386 - val_loss: 0.5654 - val_accuracy: 0.7133\n",
      "Epoch 8/60\n",
      "22/22 [==============================] - 28s 1s/step - loss: 0.3111 - accuracy: 0.8686 - val_loss: 0.5895 - val_accuracy: 0.7200\n",
      "Epoch 9/60\n",
      "22/22 [==============================] - 28s 1s/step - loss: 0.3202 - accuracy: 0.8586 - val_loss: 0.7019 - val_accuracy: 0.6900\n",
      "Epoch 10/60\n",
      "22/22 [==============================] - 28s 1s/step - loss: 0.3899 - accuracy: 0.8343 - val_loss: 0.6680 - val_accuracy: 0.7300\n",
      "Epoch 11/60\n",
      "22/22 [==============================] - 28s 1s/step - loss: 0.3576 - accuracy: 0.8400 - val_loss: 0.7398 - val_accuracy: 0.6800\n",
      "Epoch 12/60\n",
      "22/22 [==============================] - 28s 1s/step - loss: 0.3580 - accuracy: 0.8300 - val_loss: 0.5863 - val_accuracy: 0.7433\n",
      "Epoch 13/60\n",
      "22/22 [==============================] - 28s 1s/step - loss: 0.3331 - accuracy: 0.8543 - val_loss: 0.5708 - val_accuracy: 0.7267\n",
      "Epoch 14/60\n",
      "22/22 [==============================] - 28s 1s/step - loss: 0.2569 - accuracy: 0.8914 - val_loss: 0.6691 - val_accuracy: 0.6800\n",
      "Epoch 15/60\n",
      "22/22 [==============================] - 28s 1s/step - loss: 0.3732 - accuracy: 0.8414 - val_loss: 0.5579 - val_accuracy: 0.6933\n",
      "Epoch 16/60\n",
      "22/22 [==============================] - 28s 1s/step - loss: 0.2269 - accuracy: 0.9143 - val_loss: 0.6203 - val_accuracy: 0.7067\n",
      "Epoch 17/60\n",
      "22/22 [==============================] - 28s 1s/step - loss: 0.2241 - accuracy: 0.9100 - val_loss: 0.6767 - val_accuracy: 0.6933\n",
      "Epoch 18/60\n",
      "22/22 [==============================] - 28s 1s/step - loss: 0.2525 - accuracy: 0.8971 - val_loss: 0.6245 - val_accuracy: 0.7233\n",
      "Epoch 19/60\n",
      "22/22 [==============================] - 28s 1s/step - loss: 0.2298 - accuracy: 0.9014 - val_loss: 0.6221 - val_accuracy: 0.7200\n",
      "Epoch 20/60\n",
      "22/22 [==============================] - 28s 1s/step - loss: 0.1948 - accuracy: 0.9329 - val_loss: 0.6334 - val_accuracy: 0.7267\n",
      "Epoch 21/60\n",
      "22/22 [==============================] - 28s 1s/step - loss: 0.1838 - accuracy: 0.9314 - val_loss: 0.6388 - val_accuracy: 0.7300\n",
      "Epoch 22/60\n",
      "22/22 [==============================] - 28s 1s/step - loss: 0.1699 - accuracy: 0.9400 - val_loss: 0.6543 - val_accuracy: 0.7200\n",
      "Epoch 23/60\n",
      "22/22 [==============================] - 28s 1s/step - loss: 0.1670 - accuracy: 0.9300 - val_loss: 0.7843 - val_accuracy: 0.7033\n",
      "Epoch 24/60\n",
      "22/22 [==============================] - 28s 1s/step - loss: 0.1956 - accuracy: 0.9243 - val_loss: 0.7020 - val_accuracy: 0.7200\n",
      "Epoch 25/60\n",
      "22/22 [==============================] - 29s 1s/step - loss: 0.1713 - accuracy: 0.9271 - val_loss: 0.6502 - val_accuracy: 0.7233\n",
      "Epoch 26/60\n",
      "22/22 [==============================] - 28s 1s/step - loss: 0.1713 - accuracy: 0.9343 - val_loss: 0.7707 - val_accuracy: 0.7467\n",
      "Epoch 27/60\n",
      "22/22 [==============================] - 28s 1s/step - loss: 0.1839 - accuracy: 0.9214 - val_loss: 0.6747 - val_accuracy: 0.7367\n",
      "Epoch 28/60\n",
      "22/22 [==============================] - 28s 1s/step - loss: 0.1621 - accuracy: 0.9357 - val_loss: 0.6990 - val_accuracy: 0.7333\n",
      "Epoch 29/60\n",
      "22/22 [==============================] - 28s 1s/step - loss: 0.1372 - accuracy: 0.9514 - val_loss: 0.7452 - val_accuracy: 0.7367\n",
      "Epoch 30/60\n",
      "22/22 [==============================] - 28s 1s/step - loss: 0.1244 - accuracy: 0.9514 - val_loss: 0.7985 - val_accuracy: 0.7267\n",
      "Epoch 31/60\n",
      "22/22 [==============================] - 28s 1s/step - loss: 0.1436 - accuracy: 0.9400 - val_loss: 0.7569 - val_accuracy: 0.7367\n",
      "Epoch 32/60\n",
      "22/22 [==============================] - 28s 1s/step - loss: 0.1218 - accuracy: 0.9529 - val_loss: 0.7696 - val_accuracy: 0.7367\n",
      "Epoch 33/60\n",
      "22/22 [==============================] - 28s 1s/step - loss: 0.1326 - accuracy: 0.9500 - val_loss: 0.7378 - val_accuracy: 0.7267\n",
      "Epoch 34/60\n",
      "22/22 [==============================] - 28s 1s/step - loss: 0.1130 - accuracy: 0.9586 - val_loss: 0.7542 - val_accuracy: 0.7200\n",
      "Epoch 35/60\n",
      "22/22 [==============================] - 28s 1s/step - loss: 0.0974 - accuracy: 0.9657 - val_loss: 0.8410 - val_accuracy: 0.7233\n",
      "Epoch 36/60\n",
      "22/22 [==============================] - 28s 1s/step - loss: 0.0917 - accuracy: 0.9714 - val_loss: 0.9607 - val_accuracy: 0.7100\n",
      "Epoch 37/60\n",
      "22/22 [==============================] - 28s 1s/step - loss: 0.1164 - accuracy: 0.9557 - val_loss: 0.8051 - val_accuracy: 0.7367\n",
      "Epoch 38/60\n",
      "22/22 [==============================] - 28s 1s/step - loss: 0.0984 - accuracy: 0.9657 - val_loss: 0.8550 - val_accuracy: 0.7200\n",
      "Epoch 39/60\n",
      "22/22 [==============================] - 28s 1s/step - loss: 0.1010 - accuracy: 0.9557 - val_loss: 0.9662 - val_accuracy: 0.7100\n",
      "Epoch 40/60\n",
      "22/22 [==============================] - 28s 1s/step - loss: 0.0769 - accuracy: 0.9771 - val_loss: 0.8595 - val_accuracy: 0.7000\n",
      "Epoch 41/60\n",
      "22/22 [==============================] - 28s 1s/step - loss: 0.0925 - accuracy: 0.9600 - val_loss: 0.8231 - val_accuracy: 0.7200\n",
      "Epoch 42/60\n",
      "22/22 [==============================] - 28s 1s/step - loss: 0.1039 - accuracy: 0.9629 - val_loss: 0.8557 - val_accuracy: 0.7300\n",
      "Epoch 43/60\n",
      "22/22 [==============================] - 28s 1s/step - loss: 0.0903 - accuracy: 0.9643 - val_loss: 0.8237 - val_accuracy: 0.7333\n",
      "Epoch 44/60\n",
      "22/22 [==============================] - 28s 1s/step - loss: 0.0820 - accuracy: 0.9686 - val_loss: 0.8566 - val_accuracy: 0.7100\n",
      "Epoch 45/60\n",
      "22/22 [==============================] - 28s 1s/step - loss: 0.0968 - accuracy: 0.9686 - val_loss: 0.8327 - val_accuracy: 0.7167\n",
      "Epoch 46/60\n",
      "22/22 [==============================] - 28s 1s/step - loss: 0.0571 - accuracy: 0.9843 - val_loss: 0.9108 - val_accuracy: 0.7300\n",
      "Epoch 47/60\n",
      "22/22 [==============================] - 28s 1s/step - loss: 0.0778 - accuracy: 0.9657 - val_loss: 0.9523 - val_accuracy: 0.7200\n",
      "Epoch 48/60\n",
      "22/22 [==============================] - 28s 1s/step - loss: 0.0556 - accuracy: 0.9843 - val_loss: 0.9088 - val_accuracy: 0.7267\n",
      "Epoch 49/60\n",
      "22/22 [==============================] - 28s 1s/step - loss: 0.0558 - accuracy: 0.9814 - val_loss: 0.8603 - val_accuracy: 0.7267\n",
      "Epoch 50/60\n",
      "22/22 [==============================] - 28s 1s/step - loss: 0.0490 - accuracy: 0.9814 - val_loss: 0.8718 - val_accuracy: 0.7400\n",
      "Epoch 51/60\n",
      "22/22 [==============================] - 28s 1s/step - loss: 0.0497 - accuracy: 0.9843 - val_loss: 0.9451 - val_accuracy: 0.7467\n",
      "Epoch 52/60\n",
      "22/22 [==============================] - 28s 1s/step - loss: 0.0590 - accuracy: 0.9771 - val_loss: 0.9817 - val_accuracy: 0.7233\n",
      "Epoch 53/60\n",
      "22/22 [==============================] - 28s 1s/step - loss: 0.0867 - accuracy: 0.9571 - val_loss: 0.9989 - val_accuracy: 0.7167\n",
      "Epoch 54/60\n",
      "22/22 [==============================] - 31s 1s/step - loss: 0.0754 - accuracy: 0.9729 - val_loss: 0.8763 - val_accuracy: 0.7200\n",
      "Epoch 55/60\n",
      "22/22 [==============================] - 28s 1s/step - loss: 0.0391 - accuracy: 0.9914 - val_loss: 0.9486 - val_accuracy: 0.7167\n",
      "Epoch 56/60\n",
      "22/22 [==============================] - 29s 1s/step - loss: 0.0405 - accuracy: 0.9843 - val_loss: 1.0024 - val_accuracy: 0.7267\n",
      "Epoch 57/60\n",
      "22/22 [==============================] - 28s 1s/step - loss: 0.0610 - accuracy: 0.9800 - val_loss: 0.9845 - val_accuracy: 0.7167\n",
      "Epoch 58/60\n",
      "22/22 [==============================] - 29s 1s/step - loss: 0.0425 - accuracy: 0.9871 - val_loss: 1.0488 - val_accuracy: 0.7300\n",
      "Epoch 59/60\n",
      "22/22 [==============================] - 29s 1s/step - loss: 0.0575 - accuracy: 0.9743 - val_loss: 1.1677 - val_accuracy: 0.6900\n",
      "Epoch 60/60\n",
      "22/22 [==============================] - 28s 1s/step - loss: 0.0508 - accuracy: 0.9829 - val_loss: 0.9604 - val_accuracy: 0.7433\n"
     ]
    }
   ],
   "source": [
    "history = model.fit(\n",
    "    train_generator,\n",
    "    steps_per_epoch=len(train_generator),\n",
    "    epochs=epochs,\n",
    "    validation_data=test_generator,\n",
    "    validation_steps=len(test_generator),\n",
    ")"
   ]
  },
  {
   "cell_type": "code",
   "execution_count": 14,
   "metadata": {},
   "outputs": [
    {
     "name": "stdout",
     "output_type": "stream",
     "text": [
      "10/10 [==============================] - 8s 772ms/step - loss: 0.9604 - accuracy: 0.7433\n",
      "Loss: 0.9603608250617981, Accuracy: 0.7433333396911621\n"
     ]
    }
   ],
   "source": [
    "test_loss, test_accuracy = model.evaluate(test_generator, steps=len(test_generator))\n",
    "print(f'Loss: {test_loss}, Accuracy: {test_accuracy}')"
   ]
  },
  {
   "cell_type": "code",
   "execution_count": 15,
   "metadata": {},
   "outputs": [
    {
     "name": "stdout",
     "output_type": "stream",
     "text": [
      "10/10 [==============================] - 9s 767ms/step\n"
     ]
    }
   ],
   "source": [
    "y_pred = model.predict(test_generator, steps=len(test_generator)).round()\n",
    "\n",
    "y_true = test_generator.classes\n",
    "\n",
    "confusion = confusion_matrix(y_true, y_pred)\n",
    "\n",
    "class_names = unique_labels(y_true, y_pred)"
   ]
  },
  {
   "cell_type": "code",
   "execution_count": 18,
   "metadata": {},
   "outputs": [
    {
     "data": {
      "image/png": "[encoded data removed]",
      "text/plain": [
       "<Figure size 800x600 with 1 Axes>"
      ]
     },
     "metadata": {},
     "output_type": "display_data"
    }
   ],
   "source": [
    "plt.figure(figsize=(8, 6))\n",
    "sns.set(font_scale=1.2)\n",
    "sns.heatmap(confusion, annot=True, fmt='d', cmap='Blues', cbar=False,\n",
    "            xticklabels=class_names, yticklabels=class_names)\n",
    "plt.xlabel('Predicted')\n",
    "plt.ylabel('True')\n",
    "plt.title('Matriz de Confusión')\n",
    "plt.show()"
   ]
  },
  {
   "cell_type": "code",
   "execution_count": 17,
   "metadata": {},
   "outputs": [
    {
     "name": "stdout",
     "output_type": "stream",
     "text": [
      "\n",
      "Informe de Clasificación:\n",
      "              precision    recall  f1-score   support\n",
      "\n",
      "           0       0.47      0.41      0.44       150\n",
      "           1       0.48      0.54      0.51       150\n",
      "\n",
      "    accuracy                           0.48       300\n",
      "   macro avg       0.48      0.48      0.47       300\n",
      "weighted avg       0.48      0.48      0.47       300\n",
      "\n"
     ]
    }
   ],
   "source": [
    "report = classification_report(y_true, y_pred)\n",
    "print(\"\\nInforme de Clasificación:\")\n",
    "print(report)"
   ]
  }
 ],
 "metadata": {
  "kernelspec": {
   "display_name": "Python 3",
   "language": "python",
   "name": "python3"
  },
  "language_info": {
   "codemirror_mode": {
    "name": "ipython",
    "version": 3
   },
   "file_extension": ".py",
   "mimetype": "text/x-python",
   "name": "python",
   "nbconvert_exporter": "python",
   "pygments_lexer": "ipython3",
   "version": "3.11.3"
  },
  "orig_nbformat": 4
 },
 "nbformat": 4,
 "nbformat_minor": 2
}
